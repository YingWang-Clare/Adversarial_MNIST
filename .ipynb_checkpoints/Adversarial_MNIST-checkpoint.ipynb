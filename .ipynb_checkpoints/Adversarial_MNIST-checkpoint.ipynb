{
 "cells": [
  {
   "cell_type": "markdown",
   "metadata": {},
   "source": [
    "# Adversarial Image for MNIST with Tensorflow\n",
    "Create adversarial images to fool a MNIST classifier in TensorFlow."
   ]
  },
  {
   "cell_type": "markdown",
   "metadata": {},
   "source": [
    "## Approach\n",
    "\n",
    "How I think and solve the problem step by step.\n",
    "\n",
    "1. Read materials and tutorials.\n",
    "2. Download the dataset for MNIST and show examples of the dataset.\n",
    "3. Create the Convolutional Neural Network model function of MNIST classifier.\n",
    "4. Train the MNIST classifier, save the model after training, and evaluate the model.\n",
    "5. Show examples of images 2 recognized by the model with high certainty.\n",
    "6. Randomly select one image 2 from the dataset and Create adversarial images to fool the MNIST classifier."
   ]
  },
  {
   "cell_type": "markdown",
   "metadata": {},
   "source": [
    "## Important Note\n",
    "** As printed in the next cell, the version of tensorflow being used in this Jupyter Notebook is 1.3.0. However, in the code, I used the lastest version of tensorflow 1.10.1. I tried to update the version in this Jupyter Notebook but failed to do so. I will try it afterwords. Everything works fine except the last function 'adversarial_image()'. It raises the error: **\n",
    "\n",
    "** \"AttributeError: 'Estimator' object has no attribute 'get_variable_value'\" **\n",
    "\n",
    "** If you want to run the code and check the final resulting adversarial images, please run the python file 'main.py' with tensorflow 1.10.1. **"
   ]
  },
  {
   "cell_type": "code",
   "execution_count": 17,
   "metadata": {},
   "outputs": [
    {
     "name": "stdout",
     "output_type": "stream",
     "text": [
      "1.3.0\n"
     ]
    }
   ],
   "source": [
    "from __future__ import absolute_import\n",
    "from __future__ import division\n",
    "from __future__ import print_function\n",
    "\n",
    "import numpy as np\n",
    "import tensorflow as tf\n",
    "import math\n",
    "from mpl_toolkits.axes_grid1 import ImageGrid\n",
    "import matplotlib.pyplot as plt\n",
    "%matplotlib inline\n",
    "tf.logging.set_verbosity(tf.logging.INFO)\n",
    "print(tf.__version__) # I used tensorflow 1.10.1 in the code"
   ]
  },
  {
   "cell_type": "markdown",
   "metadata": {},
   "source": [
    "## Download the dataset"
   ]
  },
  {
   "cell_type": "code",
   "execution_count": 2,
   "metadata": {},
   "outputs": [
    {
     "name": "stdout",
     "output_type": "stream",
     "text": [
      "Extracting MNIST-data/train-images-idx3-ubyte.gz\n",
      "Extracting MNIST-data/train-labels-idx1-ubyte.gz\n",
      "Extracting MNIST-data/t10k-images-idx3-ubyte.gz\n",
      "Extracting MNIST-data/t10k-labels-idx1-ubyte.gz\n",
      "Number of training examples:  55000\n",
      "Number of testing examples:  10000\n",
      "Shape of training images:  (55000, 784)\n",
      "Shape of training labels:  (55000,)\n",
      "Shape of testing images:  (10000, 784)\n",
      "Shape of testing labels:  (10000,)\n"
     ]
    }
   ],
   "source": [
    "# Load training and tesing data\n",
    "mnist = tf.contrib.learn.datasets.load_dataset(\"mnist\")\n",
    "train_data = mnist.train.images  # Returns np.array\n",
    "train_labels = np.asarray(mnist.train.labels, dtype=np.int32)\n",
    "eval_data = mnist.test.images  # Returns np.array\n",
    "eval_labels = np.asarray(mnist.test.labels, dtype=np.int32)"
   ]
  },
  {
   "cell_type": "code",
   "execution_count": null,
   "metadata": {
    "collapsed": true
   },
   "outputs": [],
   "source": [
    "# Illustrate the dataset.\n",
    "print('Number of training examples: ', str(train_data.shape[0]))\n",
    "print('Number of testing examples: ', str(eval_data.shape[0]))\n",
    "print('Shape of training images: ', str(train_data.shape))\n",
    "print('Shape of training labels: ', str(train_labels.shape))\n",
    "print('Shape of testing images: ', str(eval_data.shape))\n",
    "print('Shape of testing labels: ', str(eval_labels.shape))"
   ]
  },
  {
   "cell_type": "code",
   "execution_count": 3,
   "metadata": {},
   "outputs": [
    {
     "name": "stdout",
     "output_type": "stream",
     "text": [
      "Label = 7\n"
     ]
    },
    {
     "data": {
      "image/png": "[encoded data removed]",
      "text/plain": [
       "<matplotlib.figure.Figure at 0x113460150>"
      ]
     },
     "metadata": {},
     "output_type": "display_data"
    }
   ],
   "source": [
    "# Example of a image, feel free to change the index you like.\n",
    "index = 0\n",
    "plt.imshow(train_data[index].reshape(28,28), cmap=\"gray\")\n",
    "print (\"Label = \" + str(train_labels[index]))"
   ]
  },
  {
   "cell_type": "markdown",
   "metadata": {},
   "source": [
    "## Build a Convolutional Neural Network using Estimators\n",
    "The following function is the code that I borrowed from:\n",
    "https://github.com/tensorflow/tensorflow/blob/master/tensorflow/examples/tutorials/layers/cnn_mnist.py"
   ]
  },
  {
   "cell_type": "code",
   "execution_count": 4,
   "metadata": {
    "collapsed": true
   },
   "outputs": [],
   "source": [
    "def cnn_model_fn(features, labels, mode):\n",
    "    \"\"\"Model function for CNN.\"\"\"\n",
    "    # Input Layer\n",
    "    # Reshape X to 4-D tensor: [batch_size, width, height, channels]\n",
    "    # MNIST images are 28x28 pixels, and have one color channel\n",
    "    input_layer = tf.reshape(features[\"x\"], [-1, 28, 28, 1])\n",
    "\n",
    "    # Convolutional Layer #1\n",
    "    # Computes 32 features using a 5x5 filter with ReLU activation.\n",
    "    # Padding is added to preserve width and height.\n",
    "    # Input Tensor Shape: [batch_size, 28, 28, 1]\n",
    "    # Output Tensor Shape: [batch_size, 28, 28, 32]\n",
    "    conv1 = tf.layers.conv2d(\n",
    "        inputs=input_layer,\n",
    "        filters=32,\n",
    "        kernel_size=[5, 5],\n",
    "        padding=\"same\",\n",
    "        activation=tf.nn.relu)\n",
    "\n",
    "    # Pooling Layer #1\n",
    "    # First max pooling layer with a 2x2 filter and stride of 2\n",
    "    # Input Tensor Shape: [batch_size, 28, 28, 32]\n",
    "    # Output Tensor Shape: [batch_size, 14, 14, 32]\n",
    "    pool1 = tf.layers.max_pooling2d(inputs=conv1, pool_size=[2, 2], strides=2)\n",
    "\n",
    "    # Convolutional Layer #2\n",
    "    # Computes 64 features using a 5x5 filter.\n",
    "    # Padding is added to preserve width and height.\n",
    "    # Input Tensor Shape: [batch_size, 14, 14, 32]\n",
    "    # Output Tensor Shape: [batch_size, 14, 14, 64]\n",
    "    conv2 = tf.layers.conv2d(\n",
    "        inputs=pool1,\n",
    "        filters=64,\n",
    "        kernel_size=[5, 5],\n",
    "        padding=\"same\",\n",
    "        activation=tf.nn.relu)\n",
    "\n",
    "    # Pooling Layer #2\n",
    "    # Second max pooling layer with a 2x2 filter and stride of 2\n",
    "    # Input Tensor Shape: [batch_size, 14, 14, 64]\n",
    "    # Output Tensor Shape: [batch_size, 7, 7, 64]\n",
    "    pool2 = tf.layers.max_pooling2d(inputs=conv2, pool_size=[2, 2], strides=2)\n",
    "\n",
    "    # Flatten tensor into a batch of vectors\n",
    "    # Input Tensor Shape: [batch_size, 7, 7, 64]\n",
    "    # Output Tensor Shape: [batch_size, 7 * 7 * 64]\n",
    "    pool2_flat = tf.reshape(pool2, [-1, 7 * 7 * 64])\n",
    "\n",
    "    # Dense Layer\n",
    "    # Densely connected layer with 1024 neurons\n",
    "    # Input Tensor Shape: [batch_size, 7 * 7 * 64]\n",
    "    # Output Tensor Shape: [batch_size, 1024]\n",
    "    dense = tf.layers.dense(inputs=pool2_flat, units=1024, activation=tf.nn.relu)\n",
    "\n",
    "    # Add dropout operation; 0.6 probability that element will be kept\n",
    "    dropout = tf.layers.dropout(\n",
    "        inputs=dense, rate=0.4, training=mode == tf.estimator.ModeKeys.TRAIN)\n",
    "\n",
    "    # Logits layer\n",
    "    # Input Tensor Shape: [batch_size, 1024]\n",
    "    # Output Tensor Shape: [batch_size, 10]\n",
    "    logits = tf.layers.dense(inputs=dropout, units=10)\n",
    "\n",
    "    predictions = {\n",
    "        # Generate predictions (for PREDICT and EVAL mode)\n",
    "        \"classes\": tf.argmax(input=logits, axis=1),\n",
    "        # Add `softmax_tensor` to the graph. It is used for PREDICT and by the\n",
    "        # `logging_hook`.\n",
    "        \"probabilities\": tf.nn.softmax(logits, name=\"softmax_tensor\")\n",
    "    }\n",
    "    if mode == tf.estimator.ModeKeys.PREDICT:\n",
    "        return tf.estimator.EstimatorSpec(mode=mode, predictions=predictions)\n",
    "\n",
    "    # Calculate Loss (for both TRAIN and EVAL modes)\n",
    "    loss = tf.losses.sparse_softmax_cross_entropy(labels=labels, logits=logits)\n",
    "\n",
    "    # Configure the Training Op (for TRAIN mode)\n",
    "    if mode == tf.estimator.ModeKeys.TRAIN:\n",
    "        optimizer = tf.train.GradientDescentOptimizer(learning_rate=0.001)\n",
    "        train_op = optimizer.minimize(\n",
    "            loss=loss,\n",
    "            global_step=tf.train.get_global_step())\n",
    "        return tf.estimator.EstimatorSpec(mode=mode, loss=loss, train_op=train_op)\n",
    "\n",
    "    # Add evaluation metrics (for EVAL mode)\n",
    "    eval_metric_ops = {\n",
    "        \"accuracy\": tf.metrics.accuracy(\n",
    "            labels=labels, predictions=predictions[\"classes\"])}\n",
    "    return tf.estimator.EstimatorSpec(\n",
    "        mode=mode, loss=loss, eval_metric_ops=eval_metric_ops)"
   ]
  },
  {
   "cell_type": "code",
   "execution_count": 5,
   "metadata": {},
   "outputs": [
    {
     "name": "stdout",
     "output_type": "stream",
     "text": [
      "INFO:tensorflow:Using default config.\n",
      "INFO:tensorflow:Using config: {'_save_checkpoints_secs': 600, '_session_config': None, '_keep_checkpoint_max': 5, '_tf_random_seed': 1, '_keep_checkpoint_every_n_hours': 10000, '_log_step_count_steps': 100, '_save_checkpoints_steps': None, '_model_dir': './tmp/mnist_convnet_model', '_save_summary_steps': 100}\n"
     ]
    }
   ],
   "source": [
    "# Create the Estimator\n",
    "mnist_classifier = tf.estimator.Estimator(\n",
    "    model_fn=cnn_model_fn, model_dir=\"./tmp/mnist_convnet_model\")"
   ]
  },
  {
   "cell_type": "code",
   "execution_count": 6,
   "metadata": {
    "collapsed": true
   },
   "outputs": [],
   "source": [
    "# Set up logging for predictions\n",
    "# Log the values in the \"Softmax\" tensor with label \"probabilities\"\n",
    "tensors_to_log = {\"probabilities\": \"softmax_tensor\"}\n",
    "logging_hook = tf.train.LoggingTensorHook(\n",
    "    tensors=tensors_to_log, every_n_iter=50)"
   ]
  },
  {
   "cell_type": "code",
   "execution_count": 7,
   "metadata": {
    "collapsed": true
   },
   "outputs": [],
   "source": [
    "\"\"\"\n",
    "Train the model, uncomment this cell for training the model.\n",
    "To save the time, I have trained a model with 'steps=20000' and 'batch_size=50'.\n",
    "The pre-trained model is saved in the path: './tmp/mnist_convnet_model/'.\n",
    "\"\"\"\n",
    "\n",
    "# train_input_fn = tf.estimator.inputs.numpy_input_fn(\n",
    "#     x={\"x\": train_data},\n",
    "#     y=train_labels,\n",
    "#     batch_size=50,\n",
    "#     num_epochs=None,\n",
    "#     shuffle=True)\n",
    "# mnist_classifier.train(\n",
    "#     input_fn=train_input_fn,\n",
    "#     steps=20000,\n",
    "#     hooks=[logging_hook])"
   ]
  },
  {
   "cell_type": "code",
   "execution_count": 8,
   "metadata": {},
   "outputs": [
    {
     "name": "stdout",
     "output_type": "stream",
     "text": [
      "INFO:tensorflow:Starting evaluation at 2018-09-15-04:49:02\n",
      "INFO:tensorflow:Restoring parameters from ./tmp/mnist_convnet_model/model.ckpt-20200\n",
      "INFO:tensorflow:Finished evaluation at 2018-09-15-04:49:21\n",
      "INFO:tensorflow:Saving dict for global step 20200: accuracy = 0.97, global_step = 20200, loss = 0.0991741\n",
      "{'loss': 0.099174134, 'global_step': 20200, 'accuracy': 0.97000003}\n"
     ]
    }
   ],
   "source": [
    "# Evaluate the model and print results, using pre-trained model saved in 'checkpoint_path'.\n",
    "eval_input_fn = tf.estimator.inputs.numpy_input_fn(\n",
    "    x={\"x\": eval_data},\n",
    "    y=eval_labels,\n",
    "    num_epochs=1,\n",
    "    shuffle=False)\n",
    "eval_results = mnist_classifier.evaluate(input_fn=eval_input_fn, checkpoint_path='./tmp/mnist_convnet_model/model.ckpt-20200')\n",
    "print('Evaluation result: ', eval_results)"
   ]
  },
  {
   "cell_type": "markdown",
   "metadata": {},
   "source": [
    "### Visualize Prediction of Some Example Images"
   ]
  },
  {
   "cell_type": "code",
   "execution_count": 9,
   "metadata": {
    "collapsed": true
   },
   "outputs": [],
   "source": [
    "# Find all indices of images whose label is 2.\n",
    "def find_all_2s(labels):\n",
    "    index_of_2s = [i for i in range(len(labels)) if labels[i] == 2]\n",
    "    return index_of_2s"
   ]
  },
  {
   "cell_type": "code",
   "execution_count": 10,
   "metadata": {},
   "outputs": [
    {
     "name": "stdout",
     "output_type": "stream",
     "text": [
      "5470\n",
      "(9, 784)\n"
     ]
    }
   ],
   "source": [
    "index_of_2s = find_all_2s(train_labels)\n",
    "x_batch = train_data[index_of_2s[10:19]]\n",
    "print('Number of images with label 2: ', len(index_of_2s))\n",
    "print('Number of image 2s will be plotted: ', x_batch.shape[0])"
   ]
  },
  {
   "cell_type": "code",
   "execution_count": 11,
   "metadata": {
    "collapsed": true
   },
   "outputs": [],
   "source": [
    "def plot_predictions(mnist_classifier, image_list, adversarial=False):\n",
    "    # Using the pre-trained model to predict the images in the image_list.\n",
    "    pred_input_fn = tf.estimator.inputs.numpy_input_fn(\n",
    "        x={\"x\": image_list},\n",
    "        num_epochs=1,\n",
    "        shuffle=False)\n",
    "    pred_results = list(\n",
    "        mnist_classifier.predict(input_fn=pred_input_fn, checkpoint_path='./tmp/mnist_convnet_model/model.ckpt-20200'))\n",
    "    pred_list = np.zeros(len(image_list)).astype(int)\n",
    "    pct_list = np.zeros(len(image_list)).astype(int)\n",
    "\n",
    "    # Setup image grid\n",
    "    cols = 3\n",
    "    rows = int(math.ceil(image_list.shape[0] / cols))\n",
    "    fig = plt.figure(1, (12., 12.))\n",
    "    grid = ImageGrid(fig, 111, \n",
    "                     nrows_ncols=(rows, cols),  \n",
    "                     axes_pad=0.5, \n",
    "                     )\n",
    "\n",
    "    # Get probs, images and populate grid\n",
    "    for i in range(len(pred_results)):\n",
    "        pred_list[i] = np.argmax(pred_results[i].get('probabilities')) \n",
    "        pct_list[i] = pred_results[i].get('probabilities')[pred_list[i]] * 100\n",
    "        image = image_list[i].reshape(28, 28)\n",
    "        grid[i].imshow(image, cmap=\"gray\")\n",
    "        grid[i].set_title('Label: {0} \\nCertainty: {1}%' \\\n",
    "                          .format(pred_list[i],\n",
    "                                  pct_list[i]))\n",
    "        # Only use when plotting original, partial deriv and adversarial images\n",
    "        if (adversarial) & (i % 3 == 1):\n",
    "            grid[i].set_title(\"Adversarial \\nPartial Derivatives\")\n",
    "    plt.show()"
   ]
  },
  {
   "cell_type": "code",
   "execution_count": 12,
   "metadata": {},
   "outputs": [
    {
     "name": "stdout",
     "output_type": "stream",
     "text": [
      "INFO:tensorflow:Restoring parameters from ./tmp/mnist_convnet_model/model.ckpt-20200\n"
     ]
    },
    {
     "data": {
      "image/png": "[encoded data removed]",
      "text/plain": [
       "<matplotlib.figure.Figure at 0x102453e90>"
      ]
     },
     "metadata": {},
     "output_type": "display_data"
    }
   ],
   "source": [
    "# Plot nine images with label 2 and show the certainty.\n",
    "plot_predictions(mnist_classifier, x_batch)"
   ]
  },
  {
   "cell_type": "code",
   "execution_count": 13,
   "metadata": {},
   "outputs": [
    {
     "name": "stdout",
     "output_type": "stream",
     "text": [
      "5307\n"
     ]
    }
   ],
   "source": [
    "# Randomly pick an image from training dataset with label 2.\n",
    "rand_index = np.random.randint(0, len(index_of_2s))\n",
    "image = train_data[index_of_2s[rand_index]]\n",
    "label_adv = 6\n",
    "print('The index of randomly choosed image from training dataset: ', rand_index)"
   ]
  },
  {
   "cell_type": "markdown",
   "metadata": {},
   "source": [
    "### Create Adversarial Images"
   ]
  },
  {
   "cell_type": "code",
   "execution_count": 18,
   "metadata": {
    "collapsed": true
   },
   "outputs": [],
   "source": [
    "def conv2d(x, W):\n",
    "    return tf.nn.conv2d(x, W, strides = [1, 1, 1, 1], padding= 'SAME')\n",
    "\n",
    "def max_pool_2x2(x):\n",
    "    return tf.nn.max_pool(x, ksize = [1, 2, 2, 1], strides = [1, 2, 2, 1],\n",
    "                          padding = 'SAME')"
   ]
  },
  {
   "cell_type": "code",
   "execution_count": 15,
   "metadata": {
    "collapsed": true
   },
   "outputs": [],
   "source": [
    "def adversarial_image(mnist_classifier, true_images, fake_labels, lr, n_steps):\n",
    "    \"\"\"\n",
    "    :param mnist_classifier: the pre-trained CNN model\n",
    "    :param true_images: the image with the specific label\n",
    "    :param fake_labels: an Integer indicating the fake label\n",
    "    :param lr: learning rate\n",
    "    :param n_steps: step to take to generate the adversarial images.\n",
    "    \"\"\"\n",
    "    \n",
    "    # reshape the input image as (1, 784)\n",
    "    true_images = np.reshape(true_images, (1, 784))\n",
    "    orig_images = true_images\n",
    "    \n",
    "    # generate one hot encoded fake label.\n",
    "    fake_ = np.zeros((10, 1))\n",
    "    fake_[fake_labels] = 1\n",
    "    \n",
    "    # calculate the loss between predicted label of the true image and the fake label.\n",
    "    # input layer\n",
    "    x = tf.placeholder(tf.float32, shape=[None, 784])\n",
    "    x_image = tf.reshape(x, [-1, 28, 28, 1])\n",
    "    # conv1 layer, loading weights and biases from the pretrained model.\n",
    "    conv1_w = mnist_classifier.get_variable_value('conv2d/kernel')\n",
    "    conv1_b = mnist_classifier.get_variable_value('conv2d/bias')\n",
    "    conv1_o = tf.nn.relu(conv2d(x_image, conv1_w) + conv1_b)\n",
    "    pool1_h = max_pool_2x2(conv1_o)\n",
    "    # conv2 layer, loading weights and biases from the pretrained model.\n",
    "    conv2_w = mnist_classifier.get_variable_value('conv2d_1/kernel')\n",
    "    conv2_b = mnist_classifier.get_variable_value('conv2d_1/bias')\n",
    "    conv2_o = tf.nn.relu(conv2d(pool1_h, conv2_w) + conv2_b)\n",
    "    pool2_h = max_pool_2x2(conv2_o)\n",
    "    # fully connected layer 1, loading weights and biases from the pretrained model.\n",
    "    dense1_w = mnist_classifier.get_variable_value('dense/kernel')\n",
    "    dense1_b = mnist_classifier.get_variable_value('dense/bias')\n",
    "    pool2_flat = tf.reshape(pool2_h, [-1, 7 * 7 * 64])\n",
    "    dense_o = tf.nn.relu(tf.matmul(pool2_flat, dense1_w) + dense1_b)\n",
    "    # fully connected layer 2, loading weights and biases from the pretrained model.\n",
    "    dense2_w = mnist_classifier.get_variable_value('dense_1/kernel')\n",
    "    dense2_b = mnist_classifier.get_variable_value('dense_1/bias')\n",
    "    dense2_o = tf.matmul(dense_o, dense2_w) + dense2_b\n",
    "    # softmax the output of fully connected layer 2 to generate logits.\n",
    "    logits = tf.nn.softmax(dense2_o)\n",
    "    # calculate loss between fake label and predicted label.\n",
    "    loss = tf.reduce_mean(\n",
    "        tf.nn.softmax_cross_entropy_with_logits_v2(labels=fake_, logits=logits))\n",
    "    \n",
    "    # Take the derivatives of loss w.r.t. input image, and create adversarial image\n",
    "    # This is inspired by: \n",
    "    # https://codewords.recurse.com/issues/five/why-do-neural-networks-think-a-panda-is-a-vulture\n",
    "    deriv = tf.gradients(loss, x)[0]\n",
    "    image_adv = tf.stop_gradient(x - tf.sign(deriv) * lr / n_steps)\n",
    "    image_adv = tf.clip_by_value(image_adv, 0, 1)\n",
    "    \n",
    "    with tf.Session() as sess:\n",
    "        sess.run(tf.global_variables_initializer())\n",
    "        # predicted label and reshape to (10, 1)\n",
    "        y = sess.run(logits, feed_dict={x: true_images})\n",
    "        y = np.reshape(y, (10, 1))\n",
    "        for _ in range(n_steps):\n",
    "            # noise\n",
    "            dydx = sess.run(deriv, feed_dict={x: true_images}) # 1 x 784\n",
    "            # adversarial image\n",
    "            x_adv = sess.run(image_adv, feed_dict={x: true_images}) # 1 x 784\n",
    "            # Create darray of 3 images - orig, noise/delta, adversarial\n",
    "            true_images = np.reshape(x_adv, (1, 784))\n",
    "            img_adv_list = orig_images  # (1, 784)\n",
    "            img_adv_list = np.append(img_adv_list, dydx, axis=0)\n",
    "            img_adv_list = np.append(img_adv_list, true_images, axis=0)\n",
    "            # Plot images\n",
    "            plot_predictions(mnist_classifier, img_adv_list, adversarial=True)"
   ]
  },
  {
   "cell_type": "code",
   "execution_count": 16,
   "metadata": {},
   "outputs": [
    {
     "ename": "AttributeError",
     "evalue": "'Estimator' object has no attribute 'get_variable_value'",
     "output_type": "error",
     "traceback": [
      "\u001b[0;31m---------------------------------------------------------------------------\u001b[0m",
      "\u001b[0;31mAttributeError\u001b[0m                            Traceback (most recent call last)",
      "\u001b[0;32m<ipython-input-16-66ba30680302>\u001b[0m in \u001b[0;36m<module>\u001b[0;34m()\u001b[0m\n\u001b[1;32m      1\u001b[0m \u001b[0;31m# Plot adversarial images\u001b[0m\u001b[0;34m\u001b[0m\u001b[0;34m\u001b[0m\u001b[0m\n\u001b[1;32m      2\u001b[0m \u001b[0;31m# Over each step, model certainty changes from 2 to 6\u001b[0m\u001b[0;34m\u001b[0m\u001b[0;34m\u001b[0m\u001b[0m\n\u001b[0;32m----> 3\u001b[0;31m \u001b[0madversarial_image\u001b[0m\u001b[0;34m(\u001b[0m\u001b[0mmnist_classifier\u001b[0m\u001b[0;34m,\u001b[0m \u001b[0mimage\u001b[0m\u001b[0;34m,\u001b[0m \u001b[0mlabel_adv\u001b[0m\u001b[0;34m,\u001b[0m \u001b[0mlr\u001b[0m\u001b[0;34m=\u001b[0m\u001b[0;36m0.25\u001b[0m\u001b[0;34m,\u001b[0m \u001b[0mn_steps\u001b[0m\u001b[0;34m=\u001b[0m\u001b[0;36m35\u001b[0m\u001b[0;34m)\u001b[0m\u001b[0;34m\u001b[0m\u001b[0m\n\u001b[0m",
      "\u001b[0;32m<ipython-input-15-5cdc0a3b8151>\u001b[0m in \u001b[0;36madversarial_image\u001b[0;34m(mnist_classifier, true_images, fake_labels, lr, n_steps, output_probs)\u001b[0m\n\u001b[1;32m      6\u001b[0m     \u001b[0mx\u001b[0m \u001b[0;34m=\u001b[0m \u001b[0mtf\u001b[0m\u001b[0;34m.\u001b[0m\u001b[0mplaceholder\u001b[0m\u001b[0;34m(\u001b[0m\u001b[0mtf\u001b[0m\u001b[0;34m.\u001b[0m\u001b[0mfloat32\u001b[0m\u001b[0;34m,\u001b[0m \u001b[0mshape\u001b[0m\u001b[0;34m=\u001b[0m\u001b[0;34m[\u001b[0m\u001b[0mNone\u001b[0m\u001b[0;34m,\u001b[0m \u001b[0;36m784\u001b[0m\u001b[0;34m]\u001b[0m\u001b[0;34m)\u001b[0m\u001b[0;34m\u001b[0m\u001b[0m\n\u001b[1;32m      7\u001b[0m     \u001b[0mx_image\u001b[0m \u001b[0;34m=\u001b[0m \u001b[0mtf\u001b[0m\u001b[0;34m.\u001b[0m\u001b[0mreshape\u001b[0m\u001b[0;34m(\u001b[0m\u001b[0mx\u001b[0m\u001b[0;34m,\u001b[0m \u001b[0;34m[\u001b[0m\u001b[0;34m-\u001b[0m\u001b[0;36m1\u001b[0m\u001b[0;34m,\u001b[0m \u001b[0;36m28\u001b[0m\u001b[0;34m,\u001b[0m \u001b[0;36m28\u001b[0m\u001b[0;34m,\u001b[0m \u001b[0;36m1\u001b[0m\u001b[0;34m]\u001b[0m\u001b[0;34m)\u001b[0m\u001b[0;34m\u001b[0m\u001b[0m\n\u001b[0;32m----> 8\u001b[0;31m     \u001b[0mconv1_w\u001b[0m \u001b[0;34m=\u001b[0m \u001b[0mmnist_classifier\u001b[0m\u001b[0;34m.\u001b[0m\u001b[0mget_variable_value\u001b[0m\u001b[0;34m(\u001b[0m\u001b[0;34m'conv2d/kernel'\u001b[0m\u001b[0;34m)\u001b[0m\u001b[0;34m\u001b[0m\u001b[0m\n\u001b[0m\u001b[1;32m      9\u001b[0m     \u001b[0mconv1_b\u001b[0m \u001b[0;34m=\u001b[0m \u001b[0mmnist_classifier\u001b[0m\u001b[0;34m.\u001b[0m\u001b[0mget_variable_value\u001b[0m\u001b[0;34m(\u001b[0m\u001b[0;34m'conv2d/bias'\u001b[0m\u001b[0;34m)\u001b[0m\u001b[0;34m\u001b[0m\u001b[0m\n\u001b[1;32m     10\u001b[0m     \u001b[0mconv1_o\u001b[0m \u001b[0;34m=\u001b[0m \u001b[0mtf\u001b[0m\u001b[0;34m.\u001b[0m\u001b[0mnn\u001b[0m\u001b[0;34m.\u001b[0m\u001b[0mrelu\u001b[0m\u001b[0;34m(\u001b[0m\u001b[0mconv2d\u001b[0m\u001b[0;34m(\u001b[0m\u001b[0mx_image\u001b[0m\u001b[0;34m,\u001b[0m \u001b[0mconv1_w\u001b[0m\u001b[0;34m)\u001b[0m \u001b[0;34m+\u001b[0m \u001b[0mconv1_b\u001b[0m\u001b[0;34m)\u001b[0m\u001b[0;34m\u001b[0m\u001b[0m\n",
      "\u001b[0;31mAttributeError\u001b[0m: 'Estimator' object has no attribute 'get_variable_value'"
     ]
    }
   ],
   "source": [
    "# Plot adversarial images\n",
    "# Over each step, model certainty changes from 2 to 6\n",
    "adversarial_image(mnist_classifier, image, label_adv, lr=0.25, n_steps=35)"
   ]
  },
  {
   "cell_type": "code",
   "execution_count": null,
   "metadata": {
    "collapsed": true
   },
   "outputs": [],
   "source": []
  }
 ],
 "metadata": {
  "kernelspec": {
   "display_name": "Python 2",
   "language": "python",
   "name": "python2"
  },
  "language_info": {
   "codemirror_mode": {
    "name": "ipython",
    "version": 2
   },
   "file_extension": ".py",
   "mimetype": "text/x-python",
   "name": "python",
   "nbconvert_exporter": "python",
   "pygments_lexer": "ipython2",
   "version": "2.7.13"
  }
 },
 "nbformat": 4,
 "nbformat_minor": 2
}
